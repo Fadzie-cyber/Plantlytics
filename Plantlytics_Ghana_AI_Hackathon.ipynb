{
  "cells": [
    {
      "cell_type": "markdown",
      "metadata": {
        "id": "dgdP4K_KWgb5"
      },
      "source": [
        "# Ghana AI Hackathon Project\n",
        "This notebook contains the implementation for the Ghana AI Hackathon. The goal of the project is to [briefly state the purpose: e.g., detect malaria from images, predict crop yields, etc.].\n",
        "\n",
        "## Team Members\n",
        "- Eldad Opare\n",
        "- Fadzai Zaranyika\n",
        "- Nana Kwaku Daasebre\n",
        "- Vanessa logan\n",
        "\n",
        "## Table of Contents\n",
        "1. Introduction\n",
        "2. Data Loading and Exploration\n",
        "3. Data Preprocessing\n",
        "4. Model Building\n",
        "5. Evaluation\n",
        "6. Conclusion and Future Work\n"
      ]
    },
    {
      "cell_type": "markdown",
      "metadata": {
        "id": "opyuQnY6bjy4"
      },
      "source": [
        "# Package Importations and Installations"
      ]
    },
    {
      "cell_type": "code",
      "execution_count": null,
      "metadata": {
        "id": "GvHKr2sqzjW1"
      },
      "outputs": [],
      "source": [
        "import os\n",
        "import sys\n",
        "import re\n",
        "import cv2\n",
        "import shutil\n",
        "import random\n",
        "import numpy as np\n",
        "import pandas as pd\n",
        "import seaborn as sns\n",
        "from tqdm import tqdm\n",
        "import tensorflow as tf\n",
        "import matplotlib.pyplot as plt\n",
        "from PIL import Image, ImageOps\n",
        "import matplotlib.image as mpimg\n",
        "from collections import defaultdict\n",
        "from tensorflow.keras.models import Model\n",
        "from tensorflow.keras.optimizers import Adam\n",
        "from sklearn.model_selection import train_test_split\n",
        "from tensorflow.keras.applications import EfficientNetB0\n",
        "from sklearn.utils.class_weight import compute_class_weight\n",
        "from tensorflow.keras.preprocessing.image import ImageDataGenerator\n",
        "from sklearn.metrics import classification_report, confusion_matrix\n",
        "from tensorflow.keras.callbacks import EarlyStopping, ModelCheckpoint, ReduceLROnPlateau\n",
        "from tensorflow.keras.layers import Dense, GlobalAveragePooling2D, Dropout\n"
      ]
    },
    {
      "cell_type": "markdown",
      "metadata": {
        "id": "1AxQbYJ8bXZt"
      },
      "source": [
        "# Dataset Unpacking\n"
      ]
    },
    {
      "cell_type": "code",
      "execution_count": null,
      "metadata": {
        "id": "YgWI7LeHthVA"
      },
      "outputs": [],
      "source": [
        "!wget -c \"https://prod-dcd-datasets-cache-zipfiles.s3.eu-west-1.amazonaws.com/bwh3zbpkpv-1.zip\" -O CCMT_raw.zip"
      ]
    },
    {
      "cell_type": "code",
      "execution_count": null,
      "metadata": {
        "id": "tVatG6P5u1xz"
      },
      "outputs": [],
      "source": [
        "!unzip CCMT_raw.zip -d CCMT_both_augmented_raw"
      ]
    },
    {
      "cell_type": "markdown",
      "source": [
        "### For storage efficiency, tiny chunks of code like the one below were made to delete folders that are no longer relevant from time to time"
      ],
      "metadata": {
        "id": "Q9XqgDwRDCAr"
      }
    },
    {
      "cell_type": "code",
      "execution_count": null,
      "metadata": {
        "id": "GCvShPwPvL7z"
      },
      "outputs": [],
      "source": [
        "# Removing the CCMT_raw.zip file\n",
        "if os.path.exists('/content/CCMT_raw.zip'):\n",
        "    os.remove('/content/CCMT_raw.zip')"
      ]
    },
    {
      "cell_type": "markdown",
      "metadata": {
        "id": "X3pNcq0yQAw1"
      },
      "source": [
        "# Merging the train and test set from the Augmented Dataset to from one main augmented set\n"
      ]
    },
    {
      "cell_type": "markdown",
      "source": [
        "The merge_augmented_dataset function merges an augmented dataset of crop pests and diseases by combining training and test sets while intelligently handling variant naming conventions. It processes each crop category separately, identifies disease variants across both train and test sets using regex pattern matching (removing trailing numbers to find base disease names), and consolidates all variants under unified directories in the target location.\n",
        "\n",
        "The implementation carefully handles filename conflicts by appending counters to duplicates (e.g., \"image_1.jpg\"), preserves file metadata during copying using shutil.copy2(), and maintains the original directory structure.\n",
        "\n",
        "The function automatically creates necessary target directories and skips any missing subdirectories, making it robust against incomplete datasets. Designed for agricultural image datasets where disease variants are numerically suffixed (e.g., \"blight1\", \"blight2\"), it outputs a reorganized dataset where all variants of the same disease are grouped together under their base names, facilitating easier model training with consolidated data. The default paths assume a specific project structure but can be customized via parameters. Progress is logged by printing each processed crop category."
      ],
      "metadata": {
        "id": "ZaxBYrjuDkhT"
      }
    },
    {
      "cell_type": "code",
      "execution_count": null,
      "metadata": {
        "id": "MRLyNXGdpWBg"
      },
      "outputs": [],
      "source": [
        "def merge_crops_diseases_by_base_name(source_dir='CCMT_both_augmented_raw/Dataset for Crop Pest and Disease Detection/CCMT Dataset-Augmented', target_dir='Merged_Crop_Augmented_Data'):\n",
        "    os.makedirs(target_dir, exist_ok=True)\n",
        "\n",
        "    for crop in os.listdir(source_dir):\n",
        "        crop_source_path = os.path.join(source_dir, crop)\n",
        "        if not os.path.isdir(crop_source_path):\n",
        "            continue\n",
        "\n",
        "        print(f\"Processing crop: {crop}\")\n",
        "        crop_target_path = os.path.join(target_dir, crop)\n",
        "        os.makedirs(crop_target_path, exist_ok=True)\n",
        "\n",
        "        disease_map = defaultdict(list)\n",
        "\n",
        "        for split in ['train_set', 'test_set']:\n",
        "            split_path = os.path.join(crop_source_path, split)\n",
        "            if not os.path.isdir(split_path):\n",
        "                continue\n",
        "\n",
        "\n",
        "            for disease_folder in os.listdir(split_path):\n",
        "                disease_path = os.path.join(split_path, disease_folder)\n",
        "                if not os.path.isdir(disease_path):\n",
        "                    continue\n",
        "\n",
        "                base_name = re.sub(r'\\d+$', '', disease_folder).strip()\n",
        "\n",
        "                base_name = base_name.title()\n",
        "\n",
        "\n",
        "                disease_map[base_name].append(disease_path)\n",
        "\n",
        "\n",
        "        for disease_name, variant_paths in disease_map.items():\n",
        "            target_disease_folder = os.path.join(crop_target_path, disease_name)\n",
        "            os.makedirs(target_disease_folder, exist_ok=True)\n",
        "\n",
        "            copied_files = set()\n",
        "\n",
        "            for variant_path in variant_paths:\n",
        "                for filename in os.listdir(variant_path):\n",
        "                    source_file = os.path.join(variant_path, filename)\n",
        "                    if not os.path.isfile(source_file):\n",
        "                        continue\n",
        "\n",
        "                    new_filename = filename\n",
        "                    if filename in copied_files:\n",
        "                        base, ext = os.path.splitext(filename)\n",
        "                        counter = 1\n",
        "                        while f\"{base}_{counter}{ext}\" in copied_files:\n",
        "                            counter += 1\n",
        "                        new_filename = f\"{base}_{counter}{ext}\"\n",
        "                    target_file = os.path.join(target_disease_folder, new_filename)\n",
        "                    shutil.copy2(source_file, target_file)\n",
        "                    copied_files.add(new_filename)\n",
        "\n",
        "        print(f\"Finished processing crop: {crop}\")\n",
        "\n",
        "\n",
        "merge_crops_diseases_by_base_name()\n",
        "\n",
        "print(\"Merging of datasets by disease completed successfully!\")"
      ]
    },
    {
      "cell_type": "markdown",
      "metadata": {
        "id": "Pdkp_6YIm8sQ"
      },
      "source": [
        "# Getting the Raw Dataset"
      ]
    },
    {
      "cell_type": "code",
      "execution_count": null,
      "metadata": {
        "colab": {
          "base_uri": "https://localhost:8080/"
        },
        "id": "kjuZCh5h3UGS",
        "outputId": "be933550-4d95-4b76-fe2f-9880ccecc1c3"
      },
      "outputs": [
        {
          "name": "stdout",
          "output_type": "stream",
          "text": [
            "Moved CCMT_both_augmented_raw/Dataset for Crop Pest and Disease Detection/Raw Data/CCMT Dataset/Tomato to Crop_Raw_Data/Tomato\n",
            "Moved CCMT_both_augmented_raw/Dataset for Crop Pest and Disease Detection/Raw Data/CCMT Dataset/Maize to Crop_Raw_Data/Maize\n",
            "Moved CCMT_both_augmented_raw/Dataset for Crop Pest and Disease Detection/Raw Data/CCMT Dataset/Cassava to Crop_Raw_Data/Cassava\n",
            "Moved CCMT_both_augmented_raw/Dataset for Crop Pest and Disease Detection/Raw Data/CCMT Dataset/Cashew to Crop_Raw_Data/Cashew\n"
          ]
        }
      ],
      "source": [
        "def move_crop_folders(source_dir, target_dir):\n",
        "    os.makedirs(target_dir, exist_ok=True)\n",
        "    for item in os.listdir(source_dir):\n",
        "        source_path = os.path.join(source_dir, item)\n",
        "        target_path = os.path.join(target_dir, item)\n",
        "        if os.path.isdir(source_path):\n",
        "            shutil.move(source_path, target_path)\n",
        "            print(f\"Moved {source_path} to {target_path}\")\n",
        "\n",
        "source_dir = 'CCMT_both_augmented_raw/Dataset for Crop Pest and Disease Detection/Raw Data/CCMT Dataset'\n",
        "target_dir = 'Crop_Raw_Data'\n",
        "\n",
        "move_crop_folders(source_dir, target_dir)"
      ]
    },
    {
      "cell_type": "code",
      "execution_count": null,
      "metadata": {
        "id": "H4owoFGgdfn-"
      },
      "outputs": [],
      "source": [
        "# Remove CCMT_raw\n",
        "if os.path.exists('/content/CCMT_both_augmented_raw'):\n",
        "    shutil.rmtree('/content/CCMT_both_augmented_raw')"
      ]
    },
    {
      "cell_type": "markdown",
      "metadata": {
        "id": "8yKTv1COpWs3"
      },
      "source": [
        "# Data Preprocessing"
      ]
    },
    {
      "cell_type": "markdown",
      "source": [
        "## Filtering off blurry images using the Laplacian variance"
      ],
      "metadata": {
        "id": "OiLuLrDoFZsI"
      }
    },
    {
      "cell_type": "code",
      "execution_count": null,
      "metadata": {
        "id": "2fTZUndtTjla"
      },
      "outputs": [],
      "source": [
        "def get_all_image_paths(dataset_path):\n",
        "    \"\"\"Get all image paths recursively from a directory\"\"\"\n",
        "    image_paths = []\n",
        "    for root, _, files in os.walk(dataset_path):\n",
        "        for file in files:\n",
        "            if file.lower().endswith(('.png', '.jpg', '.jpeg')):\n",
        "                image_paths.append(os.path.join(root, file))\n",
        "    return image_paths\n"
      ]
    },
    {
      "cell_type": "code",
      "execution_count": null,
      "metadata": {
        "id": "e9K9oGy8T45U"
      },
      "outputs": [],
      "source": [
        "def calculate_sharpness_scores(image_paths):\n",
        "    \"\"\"Calculate Laplacian variance for all images\"\"\"\n",
        "    blur_scores = []\n",
        "    valid_paths = []\n",
        "\n",
        "    print(\"\\nCalculating sharpness scores...\")\n",
        "    for img_path in tqdm(image_paths):\n",
        "        try:\n",
        "            img = cv2.imread(img_path, cv2.IMREAD_GRAYSCALE)\n",
        "            if img is None:\n",
        "                continue\n",
        "\n",
        "            lap_var = cv2.Laplacian(img, cv2.CV_64F).var()\n",
        "            blur_scores.append(lap_var)\n",
        "            valid_paths.append(img_path)\n",
        "        except Exception as e:\n",
        "            print(f\"Error processing {img_path}: {str(e)}\")\n",
        "\n",
        "    return np.array(blur_scores), valid_paths\n"
      ]
    },
    {
      "cell_type": "code",
      "execution_count": null,
      "metadata": {
        "id": "TIKEV3aPUBeZ"
      },
      "outputs": [],
      "source": [
        "def analyze_sharpness_distribution(scores):\n",
        "    \"\"\"Generate statistics and histogram of sharpness scores\"\"\"\n",
        "    stats = {\n",
        "        'min': np.min(scores),\n",
        "        'max': np.max(scores),\n",
        "        'mean': np.mean(scores),\n",
        "        'median': np.median(scores),\n",
        "        'std': np.std(scores)\n",
        "    }\n",
        "\n",
        "    print(\"\\nSharpness Statistics:\")\n",
        "    for k, v in stats.items():\n",
        "        print(f\"{k.capitalize()}: {v:.2f}\")\n",
        "\n",
        "\n",
        "    plt.figure(figsize=(12, 6))\n",
        "    plt.hist(scores, bins=50, color='blue', alpha=0.7)\n",
        "    plt.axvline(stats['mean'], color='red', linestyle='--', label=f'Mean: {stats[\"mean\"]:.2f}')\n",
        "    plt.axvline(stats['median'], color='green', linestyle='--', label=f'Median: {stats[\"median\"]:.2f}')\n",
        "    plt.xlabel('Laplacian Variance (Sharpness)')\n",
        "    plt.ylabel('Frequency')\n",
        "    plt.title('Image Sharpness Distribution')\n",
        "    plt.legend()\n",
        "    plt.show()\n",
        "\n",
        "    return stats"
      ]
    },
    {
      "cell_type": "code",
      "execution_count": null,
      "metadata": {
        "id": "4BWI6Fv2UJCG"
      },
      "outputs": [],
      "source": [
        "def visualize_threshold(scores, image_paths, threshold, num_samples=5):\n",
        "    \"\"\"Show sample images near a threshold\"\"\"\n",
        "    # Find images near threshold\n",
        "    lower = threshold * 0.9\n",
        "    upper = threshold * 1.1\n",
        "    near_threshold = []\n",
        "\n",
        "    for score, path in zip(scores, image_paths):\n",
        "        if lower <= score <= upper:\n",
        "            near_threshold.append((score, path))\n",
        "            if len(near_threshold) >= num_samples:\n",
        "                break\n",
        "\n",
        "    print(f\"\\nSample images near threshold {threshold:.2f}:\")\n",
        "    for score, path in near_threshold:\n",
        "        img = cv2.imread(path)\n",
        "        img = cv2.cvtColor(img, cv2.COLOR_BGR2RGB)\n",
        "\n",
        "        plt.figure(figsize=(4, 4))\n",
        "        plt.imshow(img)\n",
        "        plt.title(f\"Score: {score:.2f}\\n{'BLURRY' if score < threshold else 'SHARP'}\")\n",
        "        plt.axis('off')\n",
        "        plt.show()\n"
      ]
    },
    {
      "cell_type": "code",
      "execution_count": null,
      "metadata": {
        "id": "PcOSYqQ7TXSF"
      },
      "outputs": [],
      "source": [
        "\n",
        "def filter_blurry_images(source_dir, output_dir, threshold=None, margin=0.2):\n",
        "    \"\"\"\n",
        "    Filter images with safety margin to reduce false positives\n",
        "\n",
        "    \"\"\"\n",
        "\n",
        "    image_paths = get_all_image_paths(source_dir)\n",
        "    scores, valid_paths = calculate_sharpness_scores(image_paths)\n",
        "\n",
        "    if threshold is None:\n",
        "        threshold = np.median(scores) * 0.8\n",
        "        print(f\"\\nUsing automatic threshold: {threshold:.2f}\")\n",
        "\n",
        "\n",
        "    safety_threshold = threshold * (1 - margin)\n",
        "\n",
        "\n",
        "    os.makedirs(output_dir, exist_ok=True)\n",
        "\n",
        "    stats = {\n",
        "        'total': len(scores),\n",
        "        'sharp': 0,\n",
        "        'borderline': 0,\n",
        "        'blurry': 0\n",
        "    }\n",
        "\n",
        "    print(\"\\nFiltering images...\")\n",
        "    for score, path in tqdm(zip(scores, valid_paths), total=len(scores)):\n",
        "        rel_path = os.path.relpath(path, source_dir)\n",
        "        output_path = os.path.join(output_dir, rel_path)\n",
        "        os.makedirs(os.path.dirname(output_path), exist_ok=True)\n",
        "\n",
        "        if score < safety_threshold:\n",
        "            stats['blurry'] += 1\n",
        "        elif score < threshold:\n",
        "            stats['borderline'] += 1\n",
        "            shutil.copy2(path, output_path)\n",
        "        else:\n",
        "            stats['sharp'] += 1\n",
        "            shutil.copy2(path, output_path)\n",
        "\n",
        "    print(\"\\nFiltering Results:\")\n",
        "    print(f\"Total images: {stats['total']}\")\n",
        "    print(f\"Sharp images kept: {stats['sharp']} ({stats['sharp']/stats['total']*100:.1f}%)\")\n",
        "    print(f\"Borderline images kept (review recommended): {stats['borderline']} ({stats['borderline']/stats['total']*100:.1f}%)\")\n",
        "    print(f\"Blurry images removed: {stats['blurry']} ({stats['blurry']/stats['total']*100:.1f}%)\")\n"
      ]
    },
    {
      "cell_type": "code",
      "execution_count": null,
      "metadata": {
        "collapsed": true,
        "id": "vP07e_paUYYy"
      },
      "outputs": [],
      "source": [
        "def full_analysis_pipeline(dataset_path, output_dir):\n",
        "    \"\"\"Complete workflow from analysis to filtering\"\"\"\n",
        "    image_paths = get_all_image_paths(dataset_path)\n",
        "\n",
        "    scores, valid_paths = calculate_sharpness_scores(image_paths)\n",
        "\n",
        "\n",
        "    stats = analyze_sharpness_distribution(scores)\n",
        "\n",
        "\n",
        "    visualize_threshold(scores, valid_paths, stats['median'] * 0.7)\n",
        "    visualize_threshold(scores, valid_paths, stats['median'] * 0.8)\n",
        "    visualize_threshold(scores, valid_paths, stats['median'] * 0.9)\n",
        "\n",
        "\n",
        "    filter_blurry_images(\n",
        "        source_dir=dataset_path,\n",
        "        output_dir=output_dir,\n",
        "        threshold=stats['median'] * 0.8,\n",
        "        margin=0.2\n",
        "    )\n",
        "\n",
        "\n",
        "full_analysis_pipeline('Merged_Crop_Augmented_Data', 'Filtered_Augmented_Dataset')\n",
        "full_analysis_pipeline('Crop_Raw_Data', 'Filtered_Raw_Dataset')"
      ]
    },
    {
      "cell_type": "markdown",
      "metadata": {
        "id": "runI9paLcFfI"
      },
      "source": [
        "#### Dealing with class Imbalance"
      ]
    },
    {
      "cell_type": "markdown",
      "metadata": {
        "id": "ub8fcg3GofaB"
      },
      "source": [
        "This function performs comprehensive analysis of class distribution within an image dataset, providing both visual and statistical insights into potential imbalances. It recursively scans through a directory structure organized by crop type and disease (expected format: dataset_path/crop/disease/images), counting all valid image files (PNG, JPG, JPEG) for each class. The analysis generates a horizontal bar chart visualizing the distribution across all classes, sorted from smallest to largest. Key statistics including total class count, mean/median images per class, and the 5 most/least populated classes are printed to console.\n",
        "The function returns a pandas DataFrame containing the raw counts for further programmatic analysis. Designed for agricultural disease datasets, it helps identify severe class imbalances that could impact model performance, serving as a diagnostic tool before dataset balancing operations.\n",
        "The visualization uses matplotlib with optimized figure sizing (12x8 inches) and automatic layout adjustment to ensure readability even with many classes. The statistical summary highlights critical metrics for assessing dataset health, particularly focusing on the long-tail distribution common in real-world agricultural datasets."
      ]
    },
    {
      "cell_type": "code",
      "execution_count": null,
      "metadata": {
        "colab": {
          "base_uri": "https://localhost:8080/",
          "height": 1000
        },
        "collapsed": true,
        "id": "nVg1IOBscKPQ",
        "outputId": "68cdb241-eb71-45a0-88e3-0d1aa72a3f72"
      },
      "outputs": [
        {
          "data": {
            "text/plain": [
              "<Figure size 1200x800 with 0 Axes>"
            ]
          },
          "metadata": {},
          "output_type": "display_data"
        },
        {
          "data": {
            "image/png": "[encoded data removed]",
            "text/plain": [
              "<Figure size 640x480 with 1 Axes>"
            ]
          },
          "metadata": {},
          "output_type": "display_data"
        },
        {
          "name": "stdout",
          "output_type": "stream",
          "text": [
            "\n",
            "Class Distribution Statistics:\n",
            "Total classes: 22\n",
            "Average images per class: 3093.2\n",
            "Median images per class: 2763.5\n",
            "Most imbalanced classes:\n",
            "                     count\n",
            "Maize_Healthy          483\n",
            "Maize_Fall Armyworm    720\n",
            "Maize_Grasshoper      1356\n",
            "Maize_Leaf Beetle     1375\n",
            "Tomato_Healthy        1492\n",
            "\n",
            "Largest classes:\n",
            "                           count\n",
            "Tomato_Leaf Blight          4073\n",
            "Cashew_Healthy              4931\n",
            "Cashew_Red Rust             5491\n",
            "Cassava_Bacterial Blight    7214\n",
            "Tomato_Septoria Leaf Spot   7613\n"
          ]
        },
        {
          "data": {
            "text/plain": [
              "<Figure size 1200x800 with 0 Axes>"
            ]
          },
          "metadata": {},
          "output_type": "display_data"
        },
        {
          "data": {
            "image/png": "[encoded data removed]",
            "text/plain": [
              "<Figure size 640x480 with 1 Axes>"
            ]
          },
          "metadata": {},
          "output_type": "display_data"
        },
        {
          "name": "stdout",
          "output_type": "stream",
          "text": [
            "\n",
            "Class Distribution Statistics:\n",
            "Total classes: 22\n",
            "Average images per class: 761.6\n",
            "Median images per class: 789.0\n",
            "Most imbalanced classes:\n",
            "                     count\n",
            "Maize_leaf beetle       66\n",
            "Maize_healthy           91\n",
            "Maize_fall armyworm    123\n",
            "Maize_grasshoper       216\n",
            "Tomato_healthy         266\n",
            "\n",
            "Largest classes:\n",
            "                           count\n",
            "Cashew_leaf miner           1077\n",
            "Cashew_anthracnose          1390\n",
            "Cashew_red rust             1499\n",
            "Cassava_bacterial blight    1704\n",
            "Tomato_septoria leaf spot   1846\n"
          ]
        }
      ],
      "source": [
        "def analyze_class_distribution(dataset_path):\n",
        "    class_counts = {}\n",
        "\n",
        "    for crop in os.listdir(dataset_path):\n",
        "        crop_path = os.path.join(dataset_path, crop)\n",
        "        if not os.path.isdir(crop_path):\n",
        "            continue\n",
        "\n",
        "        for disease in os.listdir(crop_path):\n",
        "            disease_path = os.path.join(crop_path, disease)\n",
        "            if not os.path.isdir(disease_path):\n",
        "                continue\n",
        "\n",
        "            num_images = len([f for f in os.listdir(disease_path)\n",
        "                           if f.lower().endswith(('.png', '.jpg', '.jpeg'))])\n",
        "            class_name = f\"{crop}_{disease}\"\n",
        "            class_counts[class_name] = num_images\n",
        "\n",
        "    # Create dataframe and sort\n",
        "    df = pd.DataFrame.from_dict(class_counts, orient='index', columns=['count'])\n",
        "    df = df.sort_values('count')\n",
        "\n",
        "    # Plot distribution\n",
        "    plt.figure(figsize=(12, 8))\n",
        "    df.plot(kind='barh', legend=False)\n",
        "    plt.title('Class Distribution')\n",
        "    plt.xlabel('Number of Images')\n",
        "    plt.ylabel('Class')\n",
        "    plt.tight_layout()\n",
        "    plt.show()\n",
        "\n",
        "    # Print statistics\n",
        "    print(\"\\nClass Distribution Statistics:\")\n",
        "    print(f\"Total classes: {len(df)}\")\n",
        "    print(f\"Average images per class: {df['count'].mean():.1f}\")\n",
        "    print(f\"Median images per class: {df['count'].median()}\")\n",
        "    print(f\"Most imbalanced classes:\")\n",
        "    print(df.head(5))  # Smallest classes\n",
        "    print(\"\\nLargest classes:\")\n",
        "    print(df.tail(5))  # Largest classes\n",
        "\n",
        "    return df\n",
        "\n",
        "# Usage\n",
        "class_distribution_augmented = analyze_class_distribution(\"Filtered_Augmented_Dataset\")\n",
        "class_distribution_raw = analyze_class_distribution(\"Filtered_Raw_Dataset\")"
      ]
    },
    {
      "cell_type": "code",
      "execution_count": null,
      "metadata": {
        "id": "kgaBLo1d3En_"
      },
      "outputs": [],
      "source": [
        "# Remove Merged_Crop_Augmented_Data folder\n",
        "if os.path.exists('/content/Merged_Crop_Augmented_Data'):\n",
        "    shutil.rmtree('/content/Merged_Crop_Augmented_Data')\n",
        "\n",
        "# Remove Crop_Raw_Data folder\n",
        "if os.path.exists('/content/Crop_Raw_Data'):\n",
        "    shutil.rmtree('/content/Crop_Raw_Data')"
      ]
    },
    {
      "cell_type": "code",
      "execution_count": null,
      "metadata": {
        "colab": {
          "base_uri": "https://localhost:8080/",
          "height": 34
        },
        "id": "ZmEAt6gb69yz",
        "outputId": "bb1a4592-69a4-4d0f-a8a2-d42d88e1db73"
      },
      "outputs": [
        {
          "data": {
            "application/javascript": [
              "\n",
              "    async function download(id, filename, size) {\n",
              "      if (!google.colab.kernel.accessAllowed) {\n",
              "        return;\n",
              "      }\n",
              "      const div = document.createElement('div');\n",
              "      const label = document.createElement('label');\n",
              "      label.textContent = `Downloading \"${filename}\": `;\n",
              "      div.appendChild(label);\n",
              "      const progress = document.createElement('progress');\n",
              "      progress.max = size;\n",
              "      div.appendChild(progress);\n",
              "      document.body.appendChild(div);\n",
              "\n",
              "      const buffers = [];\n",
              "      let downloaded = 0;\n",
              "\n",
              "      const channel = await google.colab.kernel.comms.open(id);\n",
              "      // Send a message to notify the kernel that we're ready.\n",
              "      channel.send({})\n",
              "\n",
              "      for await (const message of channel.messages) {\n",
              "        // Send a message to notify the kernel that we're ready.\n",
              "        channel.send({})\n",
              "        if (message.buffers) {\n",
              "          for (const buffer of message.buffers) {\n",
              "            buffers.push(buffer);\n",
              "            downloaded += buffer.byteLength;\n",
              "            progress.value = downloaded;\n",
              "          }\n",
              "        }\n",
              "      }\n",
              "      const blob = new Blob(buffers, {type: 'application/binary'});\n",
              "      const a = document.createElement('a');\n",
              "      a.href = window.URL.createObjectURL(blob);\n",
              "      a.download = filename;\n",
              "      div.appendChild(a);\n",
              "      a.click();\n",
              "      div.remove();\n",
              "    }\n",
              "  "
            ],
            "text/plain": [
              "<IPython.core.display.Javascript object>"
            ]
          },
          "metadata": {},
          "output_type": "display_data"
        },
        {
          "data": {
            "application/javascript": [
              "download(\"download_fe85e5e8-0533-4216-8c9c-0df5572d5ee5\", \"Filtered_Augmented_Dataset.zip\", 5585529972)"
            ],
            "text/plain": [
              "<IPython.core.display.Javascript object>"
            ]
          },
          "metadata": {},
          "output_type": "display_data"
        },
        {
          "data": {
            "application/javascript": [
              "\n",
              "    async function download(id, filename, size) {\n",
              "      if (!google.colab.kernel.accessAllowed) {\n",
              "        return;\n",
              "      }\n",
              "      const div = document.createElement('div');\n",
              "      const label = document.createElement('label');\n",
              "      label.textContent = `Downloading \"${filename}\": `;\n",
              "      div.appendChild(label);\n",
              "      const progress = document.createElement('progress');\n",
              "      progress.max = size;\n",
              "      div.appendChild(progress);\n",
              "      document.body.appendChild(div);\n",
              "\n",
              "      const buffers = [];\n",
              "      let downloaded = 0;\n",
              "\n",
              "      const channel = await google.colab.kernel.comms.open(id);\n",
              "      // Send a message to notify the kernel that we're ready.\n",
              "      channel.send({})\n",
              "\n",
              "      for await (const message of channel.messages) {\n",
              "        // Send a message to notify the kernel that we're ready.\n",
              "        channel.send({})\n",
              "        if (message.buffers) {\n",
              "          for (const buffer of message.buffers) {\n",
              "            buffers.push(buffer);\n",
              "            downloaded += buffer.byteLength;\n",
              "            progress.value = downloaded;\n",
              "          }\n",
              "        }\n",
              "      }\n",
              "      const blob = new Blob(buffers, {type: 'application/binary'});\n",
              "      const a = document.createElement('a');\n",
              "      a.href = window.URL.createObjectURL(blob);\n",
              "      a.download = filename;\n",
              "      div.appendChild(a);\n",
              "      a.click();\n",
              "      div.remove();\n",
              "    }\n",
              "  "
            ],
            "text/plain": [
              "<IPython.core.display.Javascript object>"
            ]
          },
          "metadata": {},
          "output_type": "display_data"
        },
        {
          "data": {
            "application/javascript": [
              "download(\"download_5f7d31fa-ad9a-4343-900d-cf7b74f898db\", \"Filtered_Raw_Dataset.zip\", 989493931)"
            ],
            "text/plain": [
              "<IPython.core.display.Javascript object>"
            ]
          },
          "metadata": {},
          "output_type": "display_data"
        }
      ],
      "source": [
        "from google.colab import files\n",
        "folder_path = ('/content/Filtered_Augmented_Dataset')\n",
        "shutil.make_archive('/content/Filtered_Augmented_Dataset', 'zip', folder_path)\n",
        "files.download('/content/Filtered_Augmented_Dataset.zip')\n",
        "\n",
        "folder_Path = ('/content/Filtered_Raw_Dataset')\n",
        "shutil.make_archive('/content/Filtered_Raw_Dataset', 'zip', folder_Path)\n",
        "files.download('/content/Filtered_Raw_Dataset.zip')"
      ]
    },
    {
      "cell_type": "markdown",
      "metadata": {
        "id": "VqWEmiJwoF6k"
      },
      "source": [
        "## Balancing the two dataset (Augmented & Raw)"
      ]
    },
    {
      "cell_type": "code",
      "execution_count": null,
      "metadata": {
        "id": "J_ytuXnBAUYK"
      },
      "outputs": [],
      "source": [
        "def progress_loader(current, total, message=\"Processing\"):\n",
        "    percent = (current / total) * 100\n",
        "    sys.stdout.write(f\"\\r{message}... {percent:.2f}%\")\n",
        "    sys.stdout.flush()\n",
        "\n",
        "def balance_dataset(source_dir, target_dir, target_count=4500, augment_threshold=3000):\n",
        "    \"\"\"\n",
        "    Balance dataset by copying, augmenting, or undersampling images.\n",
        "    \"\"\"\n",
        "    os.makedirs(target_dir, exist_ok=True)\n",
        "\n",
        "    datagen = ImageDataGenerator(\n",
        "        rotation_range=25,\n",
        "        width_shift_range=0.2,\n",
        "        height_shift_range=0.2,\n",
        "        shear_range=0.2,\n",
        "        zoom_range=0.2,\n",
        "        horizontal_flip=True,\n",
        "        vertical_flip=True,\n",
        "        brightness_range=[0.8, 1.2],\n",
        "        fill_mode='reflect'\n",
        "    )\n",
        "\n",
        "    crops = os.listdir(source_dir)\n",
        "    total_crops = len(crops)\n",
        "\n",
        "    for crop_idx, crop in enumerate(crops, 1):\n",
        "        progress_loader(crop_idx, total_crops, message=f\"Processing crop: {crop}\")\n",
        "        crop_path = os.path.join(source_dir, crop)\n",
        "        target_crop_path = os.path.join(target_dir, crop)\n",
        "        os.makedirs(target_crop_path, exist_ok=True)\n",
        "\n",
        "        diseases = os.listdir(crop_path)\n",
        "        total_diseases = len(diseases)\n",
        "\n",
        "        for disease_idx, disease in enumerate(diseases, 1):\n",
        "            progress_loader(disease_idx, total_diseases, message=f\"Processing disease: {disease}\")\n",
        "            disease_path = os.path.join(crop_path, disease)\n",
        "            target_disease_path = os.path.join(target_crop_path, disease)\n",
        "            os.makedirs(target_disease_path, exist_ok=True)\n",
        "\n",
        "            images = [f for f in os.listdir(disease_path)\n",
        "                      if f.lower().endswith(('.png', '.jpg', '.jpeg'))]\n",
        "            num_images = len(images)\n",
        "\n",
        "\n",
        "            if num_images == 0:\n",
        "                continue\n",
        "\n",
        "\n",
        "            if num_images < augment_threshold:\n",
        "\n",
        "                for img in images:\n",
        "                    shutil.copy2(os.path.join(disease_path, img),\n",
        "                                os.path.join(target_disease_path, img))\n",
        "\n",
        "\n",
        "                needed = target_count - num_images\n",
        "                augmentation_factor = max(2, int(needed / num_images) + 1)\n",
        "\n",
        "                for img_idx, img in enumerate(images, 1):\n",
        "                    img_path = os.path.join(disease_path, img)\n",
        "                    image = cv2.imread(img_path)\n",
        "                    image = cv2.cvtColor(image, cv2.COLOR_BGR2RGB)\n",
        "\n",
        "                    total_aug = augmentation_factor\n",
        "                    for aug_idx, batch in enumerate(datagen.flow(\n",
        "                        image[np.newaxis, ...],\n",
        "                        batch_size=1,\n",
        "                        save_to_dir=target_disease_path,\n",
        "                        save_prefix='aug',\n",
        "                        save_format='jpg'\n",
        "                    )):\n",
        "\n",
        "                        progress_loader(aug_idx+1, total_aug, message=f\"Augmenting {img}\")\n",
        "                        if aug_idx+1 >= total_aug:\n",
        "                            break\n",
        "\n",
        "            elif num_images < target_count:\n",
        "\n",
        "                for img in images:\n",
        "                    shutil.copy2(os.path.join(disease_path, img),\n",
        "                                os.path.join(target_disease_path, img))\n",
        "\n",
        "                needed = target_count - num_images\n",
        "                sampled = random.sample(images, needed)\n",
        "                total_samples = len(sampled)\n",
        "\n",
        "                for sample_idx, img in enumerate(sampled, 1):\n",
        "                    img_path = os.path.join(disease_path, img)\n",
        "                    image = cv2.imread(img_path)\n",
        "                    image = cv2.cvtColor(image, cv2.COLOR_BGR2RGB)\n",
        "\n",
        "\n",
        "                    progress_loader(sample_idx, total_samples, message=f\"Augmenting sampled {img}\")\n",
        "\n",
        "                    for batch in datagen.flow(\n",
        "                        image[np.newaxis, ...],\n",
        "                        batch_size=1,\n",
        "                        save_to_dir=target_disease_path,\n",
        "                        save_prefix='aug',\n",
        "                        save_format='jpg'\n",
        "                    ):\n",
        "                        break\n",
        "\n",
        "            # --- Processing large classes (downsampling) ---\n",
        "            else:\n",
        "                # Randomly sample target_count images\n",
        "                sampled = random.sample(images, target_count)\n",
        "                for img in sampled:\n",
        "                    shutil.copy2(os.path.join(disease_path, img),\n",
        "                                os.path.join(target_disease_path, img))\n",
        "\n",
        "\n",
        "balance_dataset(\n",
        "    source_dir=\"Filtered_Augmented_Dataset\",\n",
        "    target_dir=\"Balanced_augmented_dataset_final\",\n",
        "    target_count=4500,        # Your median class size\n",
        "    augment_threshold=3000    # Augment classes below this\n",
        ")\n",
        "\n",
        "balance_dataset(\n",
        "    source_dir=\"Filtered_Raw_Dataset\",\n",
        "    target_dir=\"Balanced_raw_dataset_final\",\n",
        "    target_count=4500,        # Your median class size\n",
        "    augment_threshold=3000    # Augment classes below this\n",
        ")"
      ]
    },
    {
      "cell_type": "code",
      "execution_count": null,
      "metadata": {
        "id": "iGIBoan337Ar"
      },
      "outputs": [],
      "source": [
        "# Remove Filtered_Augmented_Dataset\n",
        "if os.path.exists('/content/Filtered_Augmented_Dataset'):\n",
        "    shutil.rmtree('/content/Filtered_Augmented_Dataset')\n",
        "\n",
        "# Remove Filtered_Raw_Dataset\n",
        "if os.path.exists('/content/Filtered_Raw_Dataset'):\n",
        "    shutil.rmtree('/content/Filtered_Raw_Dataset')"
      ]
    },
    {
      "cell_type": "markdown",
      "metadata": {
        "id": "dMzWGvw6nNtB"
      },
      "source": [
        "## Image Resizing to fit the Chosen Model(Efficient Net)\n",
        "This function preprocesses image datasets for EfficientNet models by resizing images to a specified target dimension (default 224×224) while maintaining aspect ratios and applying intelligent padding when needed. It recursively processes all common image formats (PNG, JPG, JPEG, WEBP) from the source directory while preserving the original folder structure.\n",
        "\n",
        "The implementation first converts images to RGB format if needed, then calculates proportional dimensions to maintain aspect ratios using high-quality Lanczos resampling. When the resized image doesn't match the target dimensions exactly, it automatically adds symmetrical white padding to reach the required size. For JPEG files, it applies customizable compression quality (default 95), while optimizing file sizes for all formats.\n",
        "\n",
        "The function includes robust error handling to skip problematic files without interrupting the batch process, and features a progress bar via tqdm for monitoring large operations. Designed specifically for EfficientNet input requirements, it creates pixel-perfect square images that work optimally with these models while minimizing distortion through its aspect ratio-preserving approach."
      ]
    },
    {
      "cell_type": "code",
      "execution_count": null,
      "metadata": {
        "id": "dytJ4YIdMt8z"
      },
      "outputs": [],
      "source": [
        "\n",
        "def resize_for_efficientnet(dataset_dir, output_dir, target_size=224, quality=95):\n",
        "    \"\"\"\n",
        "    Optimized image resizer for EfficientNet that:\n",
        "    - Maintains aspect ratio\n",
        "    - Adds minimal padding when needed\n",
        "    - Preserves directory structure\n",
        "    - Handles various image formats\n",
        "\n",
        "    Args:\n",
        "        dataset_dir: Input directory with original images\n",
        "        output_dir: Where to save resized images\n",
        "        target_size: Target dimension (380 for EfficientNet)\n",
        "        quality: JPEG quality (1-100)\n",
        "    \"\"\"\n",
        "    # Create output directory if needed\n",
        "    os.makedirs(output_dir, exist_ok=True)\n",
        "\n",
        "    # Supported image formats\n",
        "    img_extensions = ('.png', '.jpg', '.jpeg', '.webp')\n",
        "\n",
        "    # Process all images\n",
        "    for root, _, files in tqdm(os.walk(dataset_dir), desc=\"Processing images\"):\n",
        "        for file in files:\n",
        "            if not file.lower().endswith(img_extensions):\n",
        "                continue\n",
        "\n",
        "            input_path = os.path.join(root, file)\n",
        "            rel_path = os.path.relpath(input_path, dataset_dir)\n",
        "            output_path = os.path.join(output_dir, rel_path)\n",
        "\n",
        "            # Create output directory structure\n",
        "            os.makedirs(os.path.dirname(output_path), exist_ok=True)\n",
        "\n",
        "            try:\n",
        "                with Image.open(input_path) as img:\n",
        "                    # Convert to RGB if needed\n",
        "                    if img.mode != 'RGB':\n",
        "                        img = img.convert('RGB')\n",
        "\n",
        "                    # Calculate new dimensions maintaining aspect ratio\n",
        "                    width, height = img.size\n",
        "                    scale = target_size / max(width, height)\n",
        "                    new_size = (int(width * scale), int(height * scale))\n",
        "\n",
        "                    # Resize with high-quality downsampling\n",
        "                    img = img.resize(new_size, Image.Resampling.LANCZOS)\n",
        "\n",
        "                    # Add padding if needed (maintains 380x380)\n",
        "                    if new_size != (target_size, target_size):\n",
        "                        delta_w = target_size - new_size[0]\n",
        "                        delta_h = target_size - new_size[1]\n",
        "                        padding = (delta_w//2, delta_h//2,\n",
        "                                  delta_w-(delta_w//2), delta_h-(delta_h//2))\n",
        "                        img = ImageOps.expand(img, padding, fill=(255, 255, 255))\n",
        "\n",
        "                    # Save with optimized settings\n",
        "                    if output_path.lower().endswith(('.jpg', '.jpeg')):\n",
        "                        img.save(output_path, quality=quality, optimize=True)\n",
        "                    else:\n",
        "                        img.save(output_path, optimize=True)\n",
        "\n",
        "            except Exception as e:\n",
        "                print(f\"\\nError processing {input_path}: {str(e)}\")\n",
        "                continue\n",
        "\n",
        "    print(\"\\nResizing complete!\")\n",
        "\n",
        "\n",
        "\n",
        "resize_for_efficientnet(\n",
        "    dataset_dir=\"Balanced_augmented_dataset_final\",\n",
        "    output_dir=\"EfficientNet_380_augmented_dataset\",\n",
        "    target_size=380,\n",
        "    quality=95\n",
        ")\n",
        "\n",
        "resize_for_efficientnet(\n",
        "    dataset_dir=\"Balanced_raw_dataset_final\",\n",
        "    output_dir=\"EfficientNet_380_raw_dataset\",\n",
        "    target_size=380,\n",
        "    quality=95\n",
        ")"
      ]
    },
    {
      "cell_type": "code",
      "execution_count": null,
      "metadata": {
        "id": "RACysc0y78tK"
      },
      "outputs": [],
      "source": [
        "from google.colab import files\n",
        "folder_path = ('/content/EfficientNet_380_augmented_dataset')\n",
        "shutil.make_archive('/content/EfficientNet_380_augmented_dataset', 'zip', folder_path)\n",
        "\n",
        "\n",
        "folder_Path = ('/content/EfficientNet_380_raw_dataset')\n",
        "shutil.make_archive('/content/EfficientNet_380_raw_dataset', 'zip', folder_Path)\n",
        "\n"
      ]
    },
    {
      "cell_type": "code",
      "execution_count": null,
      "metadata": {
        "id": "mI9Ye1jkTsH9"
      },
      "outputs": [],
      "source": [
        "# Remove Balanced_augmented_dataset_final\n",
        "if os.path.exists('/content/Balanced_augmented_dataset_final'):\n",
        "    shutil.rmtree('/content/Balanced_augmented_dataset_final')\n",
        "\n",
        "# Remove Balanced_raw_dataset_final\n",
        "if os.path.exists('/content/Balanced_raw_dataset_final'):\n",
        "    shutil.rmtree('/content/Balanced_raw_dataset_final')"
      ]
    },
    {
      "cell_type": "markdown",
      "metadata": {
        "id": "V1AsYDtdcMZi"
      },
      "source": [
        "#### Dataset Splits"
      ]
    },
    {
      "cell_type": "code",
      "execution_count": null,
      "metadata": {
        "colab": {
          "base_uri": "https://localhost:8080/"
        },
        "id": "OnZ1YvoDcP3Z",
        "outputId": "1f2db726-0c42-4e1a-bef3-981bd7e40d9e"
      },
      "outputs": [
        {
          "name": "stdout",
          "output_type": "stream",
          "text": [
            "📂 Processing class 'Tomato_Septoria Leaf Spot' with 7613 images...\n",
            "   ✅ train: 6090 images\n",
            "   ✅ val: 761 images\n",
            "   ✅ test: 762 images\n",
            "📂 Processing class 'Tomato_Leaf Curl' with 1610 images...\n",
            "   ✅ train: 1288 images\n",
            "   ✅ val: 161 images\n",
            "   ✅ test: 161 images\n",
            "📂 Processing class 'Tomato_Leaf Blight' with 4073 images...\n",
            "   ✅ train: 3258 images\n",
            "   ✅ val: 407 images\n",
            "   ✅ test: 408 images\n",
            "📂 Processing class 'Tomato_Healthy' with 1492 images...\n",
            "   ✅ train: 1193 images\n",
            "   ✅ val: 149 images\n",
            "   ✅ test: 150 images\n",
            "📂 Processing class 'Tomato_Verticulium Wilt' with 2519 images...\n",
            "   ✅ train: 2015 images\n",
            "   ✅ val: 252 images\n",
            "   ✅ test: 252 images\n",
            "📂 Processing class 'Maize_Fall Armyworm' with 720 images...\n",
            "   ✅ train: 576 images\n",
            "   ✅ val: 72 images\n",
            "   ✅ test: 72 images\n",
            "📂 Processing class 'Maize_Grasshoper' with 1356 images...\n",
            "   ✅ train: 1084 images\n",
            "   ✅ val: 136 images\n",
            "   ✅ test: 136 images\n",
            "📂 Processing class 'Maize_Leaf Beetle' with 1375 images...\n",
            "   ✅ train: 1100 images\n",
            "   ✅ val: 137 images\n",
            "   ✅ test: 138 images\n",
            "📂 Processing class 'Maize_Leaf Spot' with 2687 images...\n",
            "   ✅ train: 2149 images\n",
            "   ✅ val: 269 images\n",
            "   ✅ test: 269 images\n",
            "📂 Processing class 'Maize_Streak Virus' with 3748 images...\n",
            "   ✅ train: 2998 images\n",
            "   ✅ val: 375 images\n",
            "   ✅ test: 375 images\n",
            "📂 Processing class 'Maize_Leaf Blight' with 3508 images...\n",
            "   ✅ train: 2806 images\n",
            "   ✅ val: 351 images\n",
            "   ✅ test: 351 images\n",
            "📂 Processing class 'Maize_Healthy' with 483 images...\n",
            "   ✅ train: 386 images\n",
            "   ✅ val: 48 images\n",
            "   ✅ test: 49 images\n",
            "📂 Processing class 'Cassava_Bacterial Blight' with 7214 images...\n",
            "   ✅ train: 5771 images\n",
            "   ✅ val: 721 images\n",
            "   ✅ test: 722 images\n",
            "📂 Processing class 'Cassava_Brown Spot' with 2928 images...\n",
            "   ✅ train: 2342 images\n",
            "   ✅ val: 293 images\n",
            "   ✅ test: 293 images\n",
            "📂 Processing class 'Cassava_Green Mite' with 2840 images...\n",
            "   ✅ train: 2272 images\n",
            "   ✅ val: 284 images\n",
            "   ✅ test: 284 images\n",
            "📂 Processing class 'Cassava_Healthy' with 2323 images...\n",
            "   ✅ train: 1858 images\n",
            "   ✅ val: 232 images\n",
            "   ✅ test: 233 images\n",
            "📂 Processing class 'Cassava_Mosaic' with 1630 images...\n",
            "   ✅ train: 1304 images\n",
            "   ✅ val: 163 images\n",
            "   ✅ test: 163 images\n",
            "📂 Processing class 'Cashew_Gumosis' with 1947 images...\n",
            "   ✅ train: 1557 images\n",
            "   ✅ val: 195 images\n",
            "   ✅ test: 195 images\n",
            "📂 Processing class 'Cashew_Anthracnose' with 3753 images...\n",
            "   ✅ train: 3002 images\n",
            "   ✅ val: 375 images\n",
            "   ✅ test: 376 images\n",
            "📂 Processing class 'Cashew_Red Rust' with 5491 images...\n",
            "   ✅ train: 4392 images\n",
            "   ✅ val: 549 images\n",
            "   ✅ test: 550 images\n",
            "📂 Processing class 'Cashew_Leaf Miner' with 3809 images...\n",
            "   ✅ train: 3047 images\n",
            "   ✅ val: 381 images\n",
            "   ✅ test: 381 images\n",
            "📂 Processing class 'Cashew_Healthy' with 4931 images...\n",
            "   ✅ train: 3944 images\n",
            "   ✅ val: 493 images\n",
            "   ✅ test: 494 images\n",
            "\n",
            "✅ Dataset successfully split into 'train', 'val', and 'test' folders.\n",
            "📂 Processing class 'Tomato_septoria leaf spot' with 1846 images...\n",
            "   ✅ train: 1476 images\n",
            "   ✅ val: 185 images\n",
            "   ✅ test: 185 images\n",
            "📂 Processing class 'Tomato_Tomato_septoria leaf spot' with 1846 images...\n",
            "   ✅ train: 1476 images\n",
            "   ✅ val: 185 images\n",
            "   ✅ test: 185 images\n",
            "📂 Processing class 'Tomato_Tomato_leaf curl' with 313 images...\n",
            "   ✅ train: 250 images\n",
            "   ✅ val: 31 images\n",
            "   ✅ test: 32 images\n",
            "📂 Processing class 'Tomato_Tomato_verticulium wilt' with 506 images...\n",
            "   ✅ train: 404 images\n",
            "   ✅ val: 51 images\n",
            "   ✅ test: 51 images\n",
            "📂 Processing class 'Tomato_Tomato_healthy' with 266 images...\n",
            "   ✅ train: 212 images\n",
            "   ✅ val: 27 images\n",
            "   ✅ test: 27 images\n",
            "📂 Processing class 'Tomato_Tomato_leaf blight' with 886 images...\n",
            "   ✅ train: 708 images\n",
            "   ✅ val: 89 images\n",
            "   ✅ test: 89 images\n",
            "📂 Processing class 'Tomato_leaf curl' with 313 images...\n",
            "   ✅ train: 250 images\n",
            "   ✅ val: 31 images\n",
            "   ✅ test: 32 images\n",
            "📂 Processing class 'Tomato_verticulium wilt' with 506 images...\n",
            "   ✅ train: 404 images\n",
            "   ✅ val: 51 images\n",
            "   ✅ test: 51 images\n",
            "📂 Processing class 'Tomato_healthy' with 266 images...\n",
            "   ✅ train: 212 images\n",
            "   ✅ val: 27 images\n",
            "   ✅ test: 27 images\n",
            "📂 Processing class 'Tomato_leaf blight' with 886 images...\n",
            "   ✅ train: 708 images\n",
            "   ✅ val: 89 images\n",
            "   ✅ test: 89 images\n",
            "📂 Processing class 'Maize_Maize_grasshoper' with 216 images...\n",
            "   ✅ train: 172 images\n",
            "   ✅ val: 22 images\n",
            "   ✅ test: 22 images\n",
            "📂 Processing class 'Maize_Maize_fall armyworm' with 123 images...\n",
            "   ✅ train: 98 images\n",
            "   ✅ val: 12 images\n",
            "   ✅ test: 13 images\n",
            "📂 Processing class 'Maize_Maize_leaf spot' with 847 images...\n",
            "   ✅ train: 677 images\n",
            "   ✅ val: 85 images\n",
            "   ✅ test: 85 images\n",
            "📂 Processing class 'Maize_Maize_streak virus' with 777 images...\n",
            "   ✅ train: 621 images\n",
            "   ✅ val: 78 images\n",
            "   ✅ test: 78 images\n",
            "📂 Processing class 'Maize_Maize_healthy' with 91 images...\n",
            "   ✅ train: 72 images\n",
            "   ✅ val: 9 images\n",
            "   ✅ test: 10 images\n",
            "📂 Processing class 'Maize_Maize_leaf blight' with 801 images...\n",
            "   ✅ train: 640 images\n",
            "   ✅ val: 80 images\n",
            "   ✅ test: 81 images\n",
            "📂 Processing class 'Maize_Maize_leaf beetle' with 66 images...\n",
            "   ✅ train: 52 images\n",
            "   ✅ val: 7 images\n",
            "   ✅ test: 7 images\n",
            "📂 Processing class 'Maize_grasshoper' with 216 images...\n",
            "   ✅ train: 172 images\n",
            "   ✅ val: 22 images\n",
            "   ✅ test: 22 images\n",
            "📂 Processing class 'Maize_fall armyworm' with 123 images...\n",
            "   ✅ train: 98 images\n",
            "   ✅ val: 12 images\n",
            "   ✅ test: 13 images\n",
            "📂 Processing class 'Maize_leaf spot' with 847 images...\n",
            "   ✅ train: 677 images\n",
            "   ✅ val: 85 images\n",
            "   ✅ test: 85 images\n",
            "📂 Processing class 'Maize_streak virus' with 777 images...\n",
            "   ✅ train: 621 images\n",
            "   ✅ val: 78 images\n",
            "   ✅ test: 78 images\n",
            "📂 Processing class 'Maize_healthy' with 91 images...\n",
            "   ✅ train: 72 images\n",
            "   ✅ val: 9 images\n",
            "   ✅ test: 10 images\n",
            "📂 Processing class 'Maize_leaf blight' with 801 images...\n",
            "   ✅ train: 640 images\n",
            "   ✅ val: 80 images\n",
            "   ✅ test: 81 images\n",
            "📂 Processing class 'Maize_leaf beetle' with 66 images...\n",
            "   ✅ train: 52 images\n",
            "   ✅ val: 7 images\n",
            "   ✅ test: 7 images\n",
            "📂 Processing class 'Cassava_brown spot' with 947 images...\n",
            "   ✅ train: 757 images\n",
            "   ✅ val: 95 images\n",
            "   ✅ test: 95 images\n",
            "📂 Processing class 'Cassava_bacterial blight' with 1704 images...\n",
            "   ✅ train: 1363 images\n",
            "   ✅ val: 170 images\n",
            "   ✅ test: 171 images\n",
            "📂 Processing class 'Cassava_Cassava_brown spot' with 947 images...\n",
            "   ✅ train: 757 images\n",
            "   ✅ val: 95 images\n",
            "   ✅ test: 95 images\n",
            "📂 Processing class 'Cassava_Cassava_bacterial blight' with 1704 images...\n",
            "   ✅ train: 1363 images\n",
            "   ✅ val: 170 images\n",
            "   ✅ test: 171 images\n",
            "📂 Processing class 'Cassava_Cassava_mosaic' with 457 images...\n",
            "   ✅ train: 365 images\n",
            "   ✅ val: 46 images\n",
            "   ✅ test: 46 images\n",
            "📂 Processing class 'Cassava_Cassava_healthy' with 846 images...\n",
            "   ✅ train: 676 images\n",
            "   ✅ val: 85 images\n",
            "   ✅ test: 85 images\n",
            "📂 Processing class 'Cassava_Cassava_green mite' with 684 images...\n",
            "   ✅ train: 547 images\n",
            "   ✅ val: 68 images\n",
            "   ✅ test: 69 images\n",
            "📂 Processing class 'Cassava_mosaic' with 457 images...\n",
            "   ✅ train: 365 images\n",
            "   ✅ val: 46 images\n",
            "   ✅ test: 46 images\n",
            "📂 Processing class 'Cassava_healthy' with 846 images...\n",
            "   ✅ train: 676 images\n",
            "   ✅ val: 85 images\n",
            "   ✅ test: 85 images\n",
            "📂 Processing class 'Cassava_green mite' with 684 images...\n",
            "   ✅ train: 547 images\n",
            "   ✅ val: 68 images\n",
            "   ✅ test: 69 images\n",
            "📂 Processing class 'Cashew_gumosis' with 376 images...\n",
            "   ✅ train: 300 images\n",
            "   ✅ val: 38 images\n",
            "   ✅ test: 38 images\n",
            "📂 Processing class 'Cashew_Cashew_gumosis' with 376 images...\n",
            "   ✅ train: 300 images\n",
            "   ✅ val: 38 images\n",
            "   ✅ test: 38 images\n",
            "📂 Processing class 'Cashew_Cashew_leaf miner' with 1077 images...\n",
            "   ✅ train: 861 images\n",
            "   ✅ val: 108 images\n",
            "   ✅ test: 108 images\n",
            "📂 Processing class 'Cashew_Cashew_healthy' with 1037 images...\n",
            "   ✅ train: 829 images\n",
            "   ✅ val: 104 images\n",
            "   ✅ test: 104 images\n",
            "📂 Processing class 'Cashew_Cashew_red rust' with 1499 images...\n",
            "   ✅ train: 1199 images\n",
            "   ✅ val: 150 images\n",
            "   ✅ test: 150 images\n",
            "📂 Processing class 'Cashew_Cashew_anthracnose' with 1390 images...\n",
            "   ✅ train: 1112 images\n",
            "   ✅ val: 139 images\n",
            "   ✅ test: 139 images\n",
            "📂 Processing class 'Cashew_leaf miner' with 1077 images...\n",
            "   ✅ train: 861 images\n",
            "   ✅ val: 108 images\n",
            "   ✅ test: 108 images\n",
            "📂 Processing class 'Cashew_healthy' with 1037 images...\n",
            "   ✅ train: 829 images\n",
            "   ✅ val: 104 images\n",
            "   ✅ test: 104 images\n",
            "📂 Processing class 'Cashew_red rust' with 1499 images...\n",
            "   ✅ train: 1199 images\n",
            "   ✅ val: 150 images\n",
            "   ✅ test: 150 images\n",
            "📂 Processing class 'Cashew_anthracnose' with 1390 images...\n",
            "   ✅ train: 1112 images\n",
            "   ✅ val: 139 images\n",
            "   ✅ test: 139 images\n",
            "\n",
            "✅ Dataset successfully split into 'train', 'val', and 'test' folders.\n"
          ]
        }
      ],
      "source": [
        "\n",
        "def split_dataset(input_dir, output_dir, train_ratio=0.8, val_ratio=0.1, test_ratio=0.1, image_exts=('jpg', 'jpeg', 'png')):\n",
        "    assert abs(train_ratio + val_ratio + test_ratio - 1.0) < 1e-6, \"Ratios must sum to 1.0\"\n",
        "\n",
        "    if not os.path.exists(input_dir):\n",
        "        raise FileNotFoundError(f\"❌ Input directory '{input_dir}' does not exist.\")\n",
        "\n",
        "    # Clear output_dir\n",
        "    if os.path.exists(output_dir):\n",
        "        shutil.rmtree(output_dir)\n",
        "    os.makedirs(output_dir)\n",
        "\n",
        "    # Recursively find all leaf folders with image files\n",
        "    class_folders = []\n",
        "    for root, dirs, files in os.walk(input_dir):\n",
        "        image_files = [f for f in files if f.lower().endswith(image_exts)]\n",
        "        if image_files:\n",
        "            class_folders.append((root, image_files))\n",
        "\n",
        "    if not class_folders:\n",
        "        raise ValueError(f\"⚠️ No image-containing class folders found in '{input_dir}'.\")\n",
        "\n",
        "    for folder_path, image_files in class_folders:\n",
        "        # Create class label from nested folder structure\n",
        "        relative_path = os.path.relpath(folder_path, input_dir)\n",
        "        class_name = relative_path.replace(os.sep, \"_\")  # e.g. Tomato/Leaf_Blight → Tomato_Leaf_Blight\n",
        "\n",
        "        print(f\"📂 Processing class '{class_name}' with {len(image_files)} images...\")\n",
        "\n",
        "        # Split images\n",
        "        train_imgs, temp_imgs = train_test_split(image_files, train_size=train_ratio, random_state=42)\n",
        "        val_imgs, test_imgs = train_test_split(temp_imgs, test_size=test_ratio / (val_ratio + test_ratio), random_state=42)\n",
        "\n",
        "        for split, split_imgs in zip(['train', 'val', 'test'], [train_imgs, val_imgs, test_imgs]):\n",
        "            split_class_dir = os.path.join(output_dir, split, class_name)\n",
        "            os.makedirs(split_class_dir, exist_ok=True)\n",
        "\n",
        "            for img_name in split_imgs:\n",
        "                src = os.path.join(folder_path, img_name)\n",
        "                dst = os.path.join(split_class_dir, img_name)\n",
        "                shutil.copy2(src, dst)\n",
        "\n",
        "            print(f\"   ✅ {split}: {len(split_imgs)} images\")\n",
        "\n",
        "    print(\"\\n✅ Dataset successfully split into 'train', 'val', and 'test' folders.\")\n",
        "\n",
        "split_dataset(\n",
        "    input_dir=\"Filtered_Augmented_Dataset\",\n",
        "    output_dir=\"EfficientNet_380_augmented_split_dataset\",\n",
        "    train_ratio=0.8,\n",
        "    val_ratio=0.1,\n",
        "    test_ratio=0.1\n",
        ")\n",
        "\n",
        "split_dataset(\n",
        "    input_dir=\"Filtered_Raw_Dataset\",\n",
        "    output_dir=\"EfficientNet_380_raw_split_dataset\",\n",
        "    train_ratio=0.8,\n",
        "    val_ratio=0.1,\n",
        "    test_ratio=0.1\n",
        ")"
      ]
    },
    {
      "cell_type": "code",
      "execution_count": null,
      "metadata": {
        "id": "WSiDuBmZ5n_9"
      },
      "outputs": [],
      "source": [
        "# Remove EfficientNet_380_augmented_dataset\n",
        "if os.path.exists('/content/EfficientNet_380_augmented_dataset'):\n",
        "    shutil.rmtree('/content/EfficientNet_380_augmented_dataset')\n",
        "\n",
        "# Remove EfficientNet_380_raw_dataset\n",
        "if os.path.exists('/content/EfficientNet_380_raw_dataset'):\n",
        "    shutil.rmtree('/content/EfficientNet_380_raw_dataset')"
      ]
    },
    {
      "cell_type": "markdown",
      "metadata": {
        "id": "C61ezLf2imzj"
      },
      "source": [
        "# Merge Augmented and Raw Dataset Splits"
      ]
    },
    {
      "cell_type": "code",
      "execution_count": null,
      "metadata": {
        "id": "EykDuh3eimHY"
      },
      "outputs": [],
      "source": [
        "def merge_splits(augmented_dir, raw_dir, output_dir):\n",
        "    splits = ['train', 'val', 'test']\n",
        "    os.makedirs(output_dir, exist_ok=True)\n",
        "\n",
        "    for split in splits:\n",
        "        combined_split_dir = os.path.join(output_dir, split)\n",
        "        os.makedirs(combined_split_dir, exist_ok=True)\n",
        "\n",
        "        # Directories for augmented and raw\n",
        "        augmented_split = os.path.join(augmented_dir, split)\n",
        "        raw_split = os.path.join(raw_dir, split)\n",
        "\n",
        "        # Merge each class folder from augmented\n",
        "        if os.path.exists(augmented_split):\n",
        "            for class_folder in os.listdir(augmented_split):\n",
        "                class_path = os.path.join(augmented_split, class_folder)\n",
        "                target_class_path = os.path.join(combined_split_dir, class_folder)\n",
        "                os.makedirs(target_class_path, exist_ok=True)\n",
        "                for img in os.listdir(class_path):\n",
        "                    src = os.path.join(class_path, img)\n",
        "                    dst = os.path.join(target_class_path, img)\n",
        "                    shutil.copy2(src, dst)\n",
        "\n",
        "        # Merge each class folder from raw\n",
        "        if os.path.exists(raw_split):\n",
        "            for class_folder in os.listdir(raw_split):\n",
        "                class_path = os.path.join(raw_split, class_folder)\n",
        "                target_class_path = os.path.join(combined_split_dir, class_folder)\n",
        "                os.makedirs(target_class_path, exist_ok=True)\n",
        "                for img in os.listdir(class_path):\n",
        "                    src = os.path.join(class_path, img)\n",
        "                    dst = os.path.join(target_class_path, img)\n",
        "                    shutil.copy2(src, dst)\n",
        "\n",
        "        print(f\"Merged {split} splits into {combined_split_dir}\")\n",
        "\n",
        "\n",
        "augmented_split_dir = \"EfficientNet_380_augmented_split_dataset\"\n",
        "raw_split_dir = \"EfficientNet_380_raw_split_dataset\"\n",
        "merged_output_dir = \"EfficientNet_380_dataset\"\n",
        "\n",
        "merge_splits(augmented_split_dir, raw_split_dir, merged_output_dir)\n",
        "print(\"Merging completed successfully!\")"
      ]
    },
    {
      "cell_type": "code",
      "execution_count": null,
      "metadata": {
        "id": "dOHUKJR9pUY4"
      },
      "outputs": [],
      "source": [
        "# Remove EfficientNet_380_augmented_split_dataset\n",
        "if os.path.exists('/content/EfficientNet_380_augmented_split_dataset'):\n",
        "    shutil.rmtree('/content/EfficientNet_380_augmented_split_dataset')\n",
        "\n",
        "# Remove EfficientNet_380_raw_split_dataset\n",
        "if os.path.exists('/content/EfficientNet_380_raw_split_dataset'):\n",
        "    shutil.rmtree('/content/EfficientNet_380_raw_split_dataset')"
      ]
    },
    {
      "cell_type": "markdown",
      "metadata": {
        "id": "_561QYsn-wbI"
      },
      "source": [
        "# Checking Validity of Images(Takes out corrupt files)"
      ]
    },
    {
      "cell_type": "code",
      "execution_count": null,
      "metadata": {
        "id": "fjTPO4H0-s7T"
      },
      "outputs": [],
      "source": [
        "import os\n",
        "from PIL import Image, UnidentifiedImageError\n",
        "\n",
        "def get_all_image_paths(dataset_path):\n",
        "    image_paths = []\n",
        "    for root, _, files in os.walk(dataset_path):\n",
        "        for file in files:\n",
        "            if file.lower().endswith(('.png', '.jpg', '.jpeg')):\n",
        "                image_paths.append(os.path.join(root, file))\n",
        "    return image_paths\n",
        "\n",
        "def validate_images(image_paths):\n",
        "    \"\"\"Check each image for validity and identify corrupted ones\"\"\"\n",
        "    corrupted_files = []\n",
        "    for path in image_paths:\n",
        "        try:\n",
        "            with Image.open(path) as img:\n",
        "                img.verify()  # verify image data\n",
        "        except (IOError, SyntaxError, UnidentifiedImageError):\n",
        "            print(f\"Invalid or corrupted image: {path}\")\n",
        "            corrupted_files.append(path)\n",
        "    return corrupted_files\n",
        "\n",
        "# Dataset path\n",
        "dataset_root = \"EfficientNet_224_dataset\"\n",
        "\n",
        "# Gather all images from train, val, and test folders\n",
        "train_images = get_all_image_paths(os.path.join(dataset_root, \"train\"))\n",
        "val_images = get_all_image_paths(os.path.join(dataset_root, \"val\"))\n",
        "test_images = get_all_image_paths(os.path.join(dataset_root, \"test\"))\n",
        "\n",
        "# Combine all paths\n",
        "all_images = train_images + val_images + test_images\n",
        "\n",
        "# Validate images\n",
        "corrupted_files = validate_images(all_images)\n",
        "\n",
        "# Remove corrupted files\n",
        "for file_path in corrupted_files:\n",
        "    print(f\"Removing corrupted image: {file_path}\")\n",
        "    os.remove(file_path)\n",
        "\n",
        "print(f\"Finished validation. Removed {len(corrupted_files)} corrupted files.\")"
      ]
    },
    {
      "cell_type": "markdown",
      "metadata": {
        "id": "7DsWdi-OkV-b"
      },
      "source": [
        "#Model Setup & Training"
      ]
    },
    {
      "cell_type": "code",
      "execution_count": null,
      "metadata": {
        "id": "sHT7V8qnh2RD"
      },
      "outputs": [],
      "source": [
        "\n",
        "\n",
        "# Paths to image directories\n",
        "train_dir = \"EfficientNet_224_dataset/train\"\n",
        "val_dir = \"EfficientNet_224_dataset/val\"\n",
        "test_dir = \"EfficientNet_224_dataset/test\"\n",
        "\n",
        "# Image size and batch size\n",
        "IMG_SIZE = 224\n",
        "BATCH_SIZE = 32\n",
        "\n",
        "# Enhanced data augmentation with more transformations for extra validation\n",
        "\n",
        "train_datagen = ImageDataGenerator(\n",
        "    rescale=1./255,\n",
        "    rotation_range=20,\n",
        "    width_shift_range=0.2,\n",
        "    height_shift_range=0.2,\n",
        "    shear_range=0.2,\n",
        "    zoom_range=0.2,\n",
        "    horizontal_flip=True,\n",
        "    fill_mode='nearest'\n",
        ")\n",
        "\n",
        "val_datagen = ImageDataGenerator(rescale=1./255)\n",
        "test_datagen = ImageDataGenerator(rescale=1./255)\n",
        "\n",
        "# Data generators\n",
        "train_generator = train_datagen.flow_from_directory(\n",
        "    train_dir,\n",
        "    target_size=(IMG_SIZE, IMG_SIZE),\n",
        "    batch_size=BATCH_SIZE,\n",
        "    class_mode='categorical',\n",
        "    shuffle=True\n",
        ")\n",
        "\n",
        "val_generator = val_datagen.flow_from_directory(\n",
        "    val_dir,\n",
        "    target_size=(IMG_SIZE, IMG_SIZE),\n",
        "    batch_size=BATCH_SIZE,\n",
        "    class_mode='categorical',\n",
        "    shuffle=False\n",
        ")\n",
        "\n",
        "test_generator = test_datagen.flow_from_directory(\n",
        "    test_dir,\n",
        "    target_size=(IMG_SIZE, IMG_SIZE),\n",
        "    batch_size=1,\n",
        "    class_mode='categorical',\n",
        "    shuffle=False\n",
        ")\n",
        "\n",
        "# Computing the class weights (if dataset is imbalanced)\n",
        "class_indices = train_generator.class_indices\n",
        "labels = train_generator.classes\n",
        "\n",
        "class_weights = compute_class_weight(\n",
        "    class_weight='balanced',\n",
        "    classes=np.unique(labels),\n",
        "    y=labels\n",
        ")\n",
        "class_weights_dict = dict(enumerate(class_weights))\n",
        "\n",
        "# Loading our desired base model (EfficientNetB0)\n",
        "base_model = EfficientNetB0(\n",
        "    weights='imagenet',\n",
        "    include_top=False,\n",
        "    input_shape=(IMG_SIZE, IMG_SIZE, 3)\n",
        ")\n",
        "\n",
        "# Adding a custom head for fine tuning\n",
        "\n",
        "x = base_model.output\n",
        "x = layers.GlobalAveragePooling2D()(x)\n",
        "x = layers.Dropout(0.3)(x)\n",
        "predictions = layers.Dense(len(class_indices), activation='softmax')(x)\n",
        "model = models.Model(inputs=base_model.input, outputs=predictions)\n",
        "\n",
        "\n",
        "# Making all layers trainable for comprehensive fine-tuning\n",
        "for layer in base_model.layers:\n",
        "    layer.trainable = True\n",
        "\n",
        "# Compiling the model with a low learning rate for our fine-tuning step\n",
        "model.compile(\n",
        "    optimizer=Adam(learning_rate=1e-5),\n",
        "    loss='categorical_crossentropy',\n",
        "    metrics=['accuracy']\n",
        ")\n",
        "\n",
        "\n",
        "# EarlyStopping if validation loss doesn't improve for 5 epochs in order to start debugging early\n",
        "early_stop = EarlyStopping(monitor='val_loss', patience=5, restore_best_weights=True)\n",
        "\n",
        "# ReduceLROnPlateau to alloq us reduce the learning rate by a factor of 0.1 if validation loss stalls for 3 epochs\n",
        "reduce_lr = ReduceLROnPlateau(\n",
        "    monitor='val_loss',\n",
        "    factor=0.1,\n",
        "    patience=3,\n",
        "    verbose=1\n",
        ")\n",
        "\n",
        "# ModelCheckpoint that saves the best model during training\n",
        "checkpoint = ModelCheckpoint(\"efficientnetb0_finetuned.h5\", save_best_only=True)\n",
        "\n",
        "\n",
        "# Training the model\n",
        "\n",
        "print(\"🔧 Starting training with increased epochs and enhanced callbacks...\")\n",
        "history = model.fit(\n",
        "    train_generator,\n",
        "    validation_data=val_generator,\n",
        "    epochs=10,  # Increased from 2 to 10\n",
        "    class_weight=class_weights_dict,\n",
        "    callbacks=[early_stop, reduce_lr, checkpoint]\n",
        ")\n",
        "\n"
      ]
    },
    {
      "cell_type": "markdown",
      "source": [
        "# Final Model Test"
      ],
      "metadata": {
        "id": "1yfUT2oECAXs"
      }
    },
    {
      "cell_type": "code",
      "source": [
        "if os.path.exists(\"efficientnetb0_finetuned 10_epochs1(19%).h5\"):\n",
        "    model.load_weights(\"efficientnetb0_finetuned 10_epochs1(19%).h5\")\n",
        "    test_loss, test_acc = model.evaluate(test_generator, steps=len(test_generator), verbose=1)\n",
        "    print(f\" Final Test Accuracy: {test_acc * 100:.2f}%\")\n",
        "else:\n",
        "    print(\" No best weights file found — skipping evaluation.\")"
      ],
      "metadata": {
        "id": "9UYOSAiKsWuL"
      },
      "execution_count": null,
      "outputs": []
    },
    {
      "cell_type": "markdown",
      "source": [
        "# Performance Metrics\n"
      ],
      "metadata": {
        "id": "r_M0CkEjI7YW"
      }
    },
    {
      "cell_type": "code",
      "source": [
        "\n",
        "if os.path.exists(\"efficientnetb0_finetuned.h5\"):\n",
        "    model.load_weights(\"efficientnetb0_finetuned.h5\")\n",
        "    print(\"Model weights loaded for performance evaluation.\")\n",
        "else:\n",
        "    print(\"Model weights not found. Make sure to load your trained model.\")\n",
        "\n",
        "# Generate predictions for the test set\n",
        "y_pred_prob = model.predict(test_generator, steps=len(test_generator))\n",
        "y_pred = np.argmax(y_pred_prob, axis=1)\n",
        "\n",
        "true_labels = test_generator.classes\n",
        "\n",
        "\n",
        "class_labels = list(test_generator.class_indices.keys())\n",
        "\n",
        "# Classification report\n",
        "report = classification_report(true_labels, y_pred, target_names=class_labels)\n",
        "print(\"Classification Report:\\n\", report)\n",
        "\n",
        "# Confusion matrix\n",
        "cm = confusion_matrix(true_labels, y_pred)\n",
        "\n",
        "plt.figure(figsize=(12, 10))\n",
        "sns.heatmap(cm, annot=True, fmt='d', cmap='Blues',\n",
        "            xticklabels=class_labels,\n",
        "            yticklabels=class_labels)\n",
        "plt.xlabel('Predicted Label')\n",
        "plt.ylabel('True Label')\n",
        "plt.title('Confusion Matrix')\n",
        "plt.show()"
      ],
      "metadata": {
        "id": "JRc7PL6OJldV"
      },
      "execution_count": null,
      "outputs": []
    }
  ],
  "metadata": {
    "accelerator": "GPU",
    "colab": {
      "gpuType": "T4",
      "provenance": [],
      "collapsed_sections": [
        "1AxQbYJ8bXZt",
        "Q9XqgDwRDCAr",
        "X3pNcq0yQAw1",
        "Pdkp_6YIm8sQ",
        "8yKTv1COpWs3",
        "OiLuLrDoFZsI",
        "runI9paLcFfI",
        "VqWEmiJwoF6k",
        "dMzWGvw6nNtB",
        "C61ezLf2imzj",
        "_561QYsn-wbI",
        "7DsWdi-OkV-b",
        "1yfUT2oECAXs",
        "r_M0CkEjI7YW"
      ]
    },
    "kernelspec": {
      "display_name": "Python 3",
      "name": "python3"
    },
    "language_info": {
      "name": "python"
    }
  },
  "nbformat": 4,
  "nbformat_minor": 0
}